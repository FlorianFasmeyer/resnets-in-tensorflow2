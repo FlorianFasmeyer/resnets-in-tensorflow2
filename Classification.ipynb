{
 "cells": [
  {
   "cell_type": "code",
   "execution_count": 1,
   "metadata": {},
   "outputs": [],
   "source": [
    "import logging\n",
    "logging.getLogger('tensorflow').disabled = True\n",
    "\n",
    "import os\n",
    "import numpy as np\n",
    "import tensorflow as tf\n",
    "import tensorflow_datasets as tfds\n",
    "\n",
    "import matplotlib.pyplot as plt\n",
    "from tqdm import tqdm, tqdm_notebook\n",
    "from tensorflow.keras.utils import plot_model"
   ]
  },
  {
   "cell_type": "code",
   "execution_count": 7,
   "metadata": {},
   "outputs": [],
   "source": [
    "from Models.Resnets import cifar_resnet110 as create_model\n",
    "model = create_model(block_type='original')\n",
    "\n",
    "logdir='trash'\n",
    "run_name='test'\n",
    "num_steps=64000\n",
    "log_interval=50\n",
    "val_interval=2000"
   ]
  },
  {
   "cell_type": "code",
   "execution_count": 8,
   "metadata": {},
   "outputs": [],
   "source": [
    "loss_fn = tf.keras.losses.SparseCategoricalCrossentropy(from_logits=True)\n",
    "schedule = tf.keras.optimizers.schedules.PiecewiseConstantDecay(boundaries=[400, 32000, 48000], values=[0.01, 0.1, 0.01, 0.001])\n",
    "optimizer = tf.keras.optimizers.SGD(schedule, momentum=0.9)\n",
    "\n",
    "ds = tfds.load('cifar10', as_supervised=True, in_memory=True)\n",
    "std = tf.reshape((0.2023, 0.1994, 0.2010), shape=(1, 1, 3))\n",
    "mean= tf.reshape((0.4914, 0.4822, 0.4465), shape=(1, 1, 3))\n",
    "\n",
    "def train_prep(x, y):\n",
    "    x = tf.cast(x, tf.float32)/255.\n",
    "    x = tf.image.random_flip_left_right(x)\n",
    "    x = tf.image.pad_to_bounding_box(x, 4, 4, 40, 40)\n",
    "    x = tf.image.random_crop(x, (32, 32, 3))\n",
    "    x = (x - mean) / std\n",
    "    return x, y\n",
    "\n",
    "def valid_prep(x, y):\n",
    "    x = tf.cast(x, tf.float32)/255.\n",
    "    x = (x - mean) / std\n",
    "    return x, y\n",
    "\n",
    "ds['train'] = ds['train'].map(train_prep).shuffle(5000).repeat().batch(128).prefetch(-1)\n",
    "ds['test'] = ds['test'].map(valid_prep).batch(512).prefetch(-1)"
   ]
  },
  {
   "cell_type": "code",
   "execution_count": 9,
   "metadata": {},
   "outputs": [
    {
     "name": "stdout",
     "output_type": "stream",
     "text": [
      "RUNID: test_x7073\n"
     ]
    }
   ],
   "source": [
    "runid = run_name + '_x' + str(np.random.randint(10000))\n",
    "writer = tf.summary.create_file_writer(logdir + '/' + runid)\n",
    "accuracy = tf.metrics.SparseCategoricalAccuracy()\n",
    "cls_loss = tf.metrics.Mean()\n",
    "reg_loss = tf.metrics.Mean()\n",
    "print(f\"RUNID: {runid}\")"
   ]
  },
  {
   "cell_type": "code",
   "execution_count": 10,
   "metadata": {},
   "outputs": [],
   "source": [
    "@tf.function\n",
    "def step(x, y, training):\n",
    "    with tf.GradientTape() as tape:\n",
    "        outs = model(x, training)\n",
    "        c_loss = loss_fn(y, outs)\n",
    "        r_loss = tf.add_n(model.losses)\n",
    "        loss = c_loss + 0.5 * r_loss\n",
    "        \n",
    "    if training:\n",
    "        gradients = tape.gradient(loss, model.trainable_weights)\n",
    "        optimizer.apply_gradients(zip(gradients, model.trainable_weights))\n",
    "        \n",
    "    accuracy(y, outs)\n",
    "    cls_loss(c_loss)\n",
    "    reg_loss(r_loss)"
   ]
  },
  {
   "cell_type": "code",
   "execution_count": null,
   "metadata": {},
   "outputs": [],
   "source": [
    "training_step = 0\n",
    "best_validation_acc = 0\n",
    "epochs = num_steps//val_interval\n",
    "\n",
    "for epoch in range(epochs):\n",
    "    for x, y in tqdm_notebook(ds['train'].take(val_interval), desc=f'epoch {epoch+1}/{epochs}',\n",
    "                     total=val_interval):\n",
    "\n",
    "        training_step += 1\n",
    "        step(x, y, training=True)\n",
    "        \n",
    "        if training_step % log_interval == 0:\n",
    "            with writer.as_default():\n",
    "                c_loss, r_loss, err = cls_loss.result(), reg_loss.result(), 1-accuracy.result()\n",
    "                print(f\" c_loss: {c_loss:^6.3f} | r_loss: {r_loss:^6.3f} | err: {err:^6.3f}\", end='\\r')\n",
    "                \n",
    "                tf.summary.scalar('train/error_rate', err, training_step)\n",
    "                tf.summary.scalar('train/classification_loss', c_loss, training_step)\n",
    "                tf.summary.scalar('train/regularization_loss', r_loss, training_step)\n",
    "                tf.summary.scalar('train/learnig_rate', optimizer._decayed_lr('float32'), training_step)\n",
    "                cls_loss.reset_states()\n",
    "                reg_loss.reset_states()\n",
    "                accuracy.reset_states()\n",
    "            \n",
    "    for x, y in ds['test']:\n",
    "        step(x, y, training=False)\n",
    "        \n",
    "    with writer.as_default():\n",
    "        tf.summary.scalar('test/classification_loss', cls_loss.result(), step=training_step)\n",
    "        tf.summary.scalar('test/error_rate', 1-accuracy.result(), step=training_step)\n",
    "        \n",
    "        if accuracy.result() > best_validation_acc:\n",
    "            best_validation_acc = accuracy.result()\n",
    "            model.save_weights(os.path.join('saved_models', runid + '.tf'))\n",
    "        \n",
    "        cls_loss.reset_states()\n",
    "        accuracy.reset_states()"
   ]
  },
  {
   "cell_type": "code",
   "execution_count": null,
   "metadata": {},
   "outputs": [],
   "source": []
  }
 ],
 "metadata": {
  "kernelspec": {
   "display_name": "Python 3",
   "language": "python",
   "name": "python3"
  },
  "language_info": {
   "codemirror_mode": {
    "name": "ipython",
    "version": 3
   },
   "file_extension": ".py",
   "mimetype": "text/x-python",
   "name": "python",
   "nbconvert_exporter": "python",
   "pygments_lexer": "ipython3",
   "version": "3.7.3"
  }
 },
 "nbformat": 4,
 "nbformat_minor": 4
}
